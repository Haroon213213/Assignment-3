{
 "cells": [
  {
   "cell_type": "code",
   "execution_count": 62,
   "metadata": {},
   "outputs": [],
   "source": [
    "import pandas as pd\n",
    "import numpy as np\n",
    "import wbgapi as wb\n",
    "import seaborn as sns\n",
    "import matplotlib.pyplot as plt\n",
    "plt.style.use('ggplot')"
   ]
  },
  {
   "cell_type": "code",
   "execution_count": 154,
   "metadata": {},
   "outputs": [],
   "source": [
    "country_codes = [\"GBR\",\"FRA\", 'CAN', 'FIN', 'BEL', 'GRC', 'IRL', 'PAK', 'PHL', 'BGD'] \n",
    "\n",
    "country_names = {\"GBR\": 'United Kingdom', \n",
    "                 \"FRA\": 'France', \n",
    "                 \"CAN\": 'Canada', \n",
    "                 \"FIN\": 'Finland', \n",
    "                 \"BEL\": 'Belgium', \n",
    "                 \"GRC\": 'Greece',\n",
    "                 \"IRL\": 'Ireland', \n",
    "                 \"PAK\": 'Pakistan',\n",
    "                 \"PHL\": 'Philippines', \n",
    "                \"BGD\": \"Bangladesh\"}\n",
    "\n",
    "\n",
    "country_groups = {\n",
    "    \"United Kingdom\": 'High', \n",
    "    \"France\": 'High', \n",
    "    \"Canada\": 'High', \n",
    "    \"Finland\": 'High', \n",
    "    \"Belgium\": 'Medium', \n",
    "    \"Greece\": 'Medium',\n",
    "    \"Ireland\": 'Medium', \n",
    "    \"Pakistan\": 'Low',\n",
    "    \"Philippines\": 'Low', \n",
    "    \"Bangladesh\": 'Low'\n",
    "                 }"
   ]
  },
  {
   "cell_type": "code",
   "execution_count": 155,
   "metadata": {},
   "outputs": [],
   "source": [
    "indicator_ids = [\"NY.GDP.MKTP.KD.ZG\", \"NY.GDP.PCAP.KD.ZG\"]\n"
   ]
  },
  {
   "cell_type": "code",
   "execution_count": 156,
   "metadata": {
    "scrolled": true
   },
   "outputs": [],
   "source": [
    "df1  = wb.data.DataFrame(indicator_ids, country_codes, mrv=30) # most recent 30 years\n",
    "\n",
    "df1 = df1.reset_index()\n",
    "\n",
    "df1[\"series\"].replace({\"NY.GDP.MKTP.KD.ZG\": \"GDP growth\", \"NY.GDP.PCAP.KD.ZG\": \"GDP per capita\"}, inplace=True)\n",
    "df1.columns = ['Country', 'Indictor', '1991', '1992', '1993', '1994', '1995', '1996', '1997', '1998', \n",
    "               '1999', '2000', '2001', '2002', '2003', '2004', '2005', '2006', '2007', '2008', '2009','2010', \n",
    "               '2011', '2012','2013','2014','2015','2016','2017','2018', '2019', '2020']\n",
    "\n",
    "df1.to_csv(\"Economy_data.csv\", index = False)"
   ]
  },
  {
   "cell_type": "code",
   "execution_count": 157,
   "metadata": {},
   "outputs": [
    {
     "data": {
      "text/html": [
       "<div>\n",
       "<style scoped>\n",
       "    .dataframe tbody tr th:only-of-type {\n",
       "        vertical-align: middle;\n",
       "    }\n",
       "\n",
       "    .dataframe tbody tr th {\n",
       "        vertical-align: top;\n",
       "    }\n",
       "\n",
       "    .dataframe thead th {\n",
       "        text-align: right;\n",
       "    }\n",
       "</style>\n",
       "<table border=\"1\" class=\"dataframe\">\n",
       "  <thead>\n",
       "    <tr style=\"text-align: right;\">\n",
       "      <th></th>\n",
       "      <th>Country</th>\n",
       "      <th>Indictor</th>\n",
       "      <th>1991</th>\n",
       "      <th>1992</th>\n",
       "      <th>1993</th>\n",
       "      <th>1994</th>\n",
       "      <th>1995</th>\n",
       "      <th>1996</th>\n",
       "      <th>1997</th>\n",
       "      <th>1998</th>\n",
       "      <th>...</th>\n",
       "      <th>2011</th>\n",
       "      <th>2012</th>\n",
       "      <th>2013</th>\n",
       "      <th>2014</th>\n",
       "      <th>2015</th>\n",
       "      <th>2016</th>\n",
       "      <th>2017</th>\n",
       "      <th>2018</th>\n",
       "      <th>2019</th>\n",
       "      <th>2020</th>\n",
       "    </tr>\n",
       "  </thead>\n",
       "  <tbody>\n",
       "    <tr>\n",
       "      <th>0</th>\n",
       "      <td>Belgium</td>\n",
       "      <td>GDP growth</td>\n",
       "      <td>1.833074</td>\n",
       "      <td>1.530655</td>\n",
       "      <td>-0.961873</td>\n",
       "      <td>3.226972</td>\n",
       "      <td>2.384757</td>\n",
       "      <td>1.321451</td>\n",
       "      <td>3.793658</td>\n",
       "      <td>1.961808</td>\n",
       "      <td>...</td>\n",
       "      <td>1.694514</td>\n",
       "      <td>0.739217</td>\n",
       "      <td>0.459242</td>\n",
       "      <td>1.578533</td>\n",
       "      <td>2.041459</td>\n",
       "      <td>1.266686</td>\n",
       "      <td>1.619580</td>\n",
       "      <td>1.819204</td>\n",
       "      <td>2.149560</td>\n",
       "      <td>-5.659660</td>\n",
       "    </tr>\n",
       "    <tr>\n",
       "      <th>1</th>\n",
       "      <td>Belgium</td>\n",
       "      <td>GDP per capita</td>\n",
       "      <td>1.455372</td>\n",
       "      <td>1.119566</td>\n",
       "      <td>-1.348000</td>\n",
       "      <td>2.909319</td>\n",
       "      <td>2.170550</td>\n",
       "      <td>1.123669</td>\n",
       "      <td>3.542789</td>\n",
       "      <td>1.744324</td>\n",
       "      <td>...</td>\n",
       "      <td>0.380035</td>\n",
       "      <td>0.116403</td>\n",
       "      <td>-0.013148</td>\n",
       "      <td>1.128596</td>\n",
       "      <td>1.451893</td>\n",
       "      <td>0.755269</td>\n",
       "      <td>1.228866</td>\n",
       "      <td>1.356791</td>\n",
       "      <td>1.598970</td>\n",
       "      <td>-6.111257</td>\n",
       "    </tr>\n",
       "    <tr>\n",
       "      <th>2</th>\n",
       "      <td>Bangladesh</td>\n",
       "      <td>GDP growth</td>\n",
       "      <td>3.485228</td>\n",
       "      <td>5.442686</td>\n",
       "      <td>4.711562</td>\n",
       "      <td>3.890126</td>\n",
       "      <td>5.121278</td>\n",
       "      <td>4.522919</td>\n",
       "      <td>4.489896</td>\n",
       "      <td>5.177027</td>\n",
       "      <td>...</td>\n",
       "      <td>6.464379</td>\n",
       "      <td>6.521459</td>\n",
       "      <td>6.013606</td>\n",
       "      <td>6.061059</td>\n",
       "      <td>6.552640</td>\n",
       "      <td>7.113478</td>\n",
       "      <td>7.284174</td>\n",
       "      <td>7.863754</td>\n",
       "      <td>8.152684</td>\n",
       "      <td>3.509136</td>\n",
       "    </tr>\n",
       "    <tr>\n",
       "      <th>3</th>\n",
       "      <td>Bangladesh</td>\n",
       "      <td>GDP per capita</td>\n",
       "      <td>1.106647</td>\n",
       "      <td>3.114215</td>\n",
       "      <td>2.465582</td>\n",
       "      <td>1.690417</td>\n",
       "      <td>2.901244</td>\n",
       "      <td>2.319635</td>\n",
       "      <td>2.306677</td>\n",
       "      <td>3.014683</td>\n",
       "      <td>...</td>\n",
       "      <td>5.253547</td>\n",
       "      <td>5.299260</td>\n",
       "      <td>4.795196</td>\n",
       "      <td>4.855756</td>\n",
       "      <td>5.366866</td>\n",
       "      <td>5.946678</td>\n",
       "      <td>6.136478</td>\n",
       "      <td>6.733299</td>\n",
       "      <td>7.045289</td>\n",
       "      <td>2.476360</td>\n",
       "    </tr>\n",
       "    <tr>\n",
       "      <th>4</th>\n",
       "      <td>Canada</td>\n",
       "      <td>GDP growth</td>\n",
       "      <td>NaN</td>\n",
       "      <td>NaN</td>\n",
       "      <td>NaN</td>\n",
       "      <td>NaN</td>\n",
       "      <td>NaN</td>\n",
       "      <td>NaN</td>\n",
       "      <td>NaN</td>\n",
       "      <td>2.796542</td>\n",
       "      <td>...</td>\n",
       "      <td>3.146881</td>\n",
       "      <td>1.762223</td>\n",
       "      <td>2.329123</td>\n",
       "      <td>2.870036</td>\n",
       "      <td>0.659177</td>\n",
       "      <td>1.001394</td>\n",
       "      <td>3.039880</td>\n",
       "      <td>2.777041</td>\n",
       "      <td>1.879592</td>\n",
       "      <td>-5.233024</td>\n",
       "    </tr>\n",
       "  </tbody>\n",
       "</table>\n",
       "<p>5 rows × 32 columns</p>\n",
       "</div>"
      ],
      "text/plain": [
       "      Country        Indictor      1991      1992      1993      1994  \\\n",
       "0     Belgium      GDP growth  1.833074  1.530655 -0.961873  3.226972   \n",
       "1     Belgium  GDP per capita  1.455372  1.119566 -1.348000  2.909319   \n",
       "2  Bangladesh      GDP growth  3.485228  5.442686  4.711562  3.890126   \n",
       "3  Bangladesh  GDP per capita  1.106647  3.114215  2.465582  1.690417   \n",
       "4      Canada      GDP growth       NaN       NaN       NaN       NaN   \n",
       "\n",
       "       1995      1996      1997      1998  ...      2011      2012      2013  \\\n",
       "0  2.384757  1.321451  3.793658  1.961808  ...  1.694514  0.739217  0.459242   \n",
       "1  2.170550  1.123669  3.542789  1.744324  ...  0.380035  0.116403 -0.013148   \n",
       "2  5.121278  4.522919  4.489896  5.177027  ...  6.464379  6.521459  6.013606   \n",
       "3  2.901244  2.319635  2.306677  3.014683  ...  5.253547  5.299260  4.795196   \n",
       "4       NaN       NaN       NaN  2.796542  ...  3.146881  1.762223  2.329123   \n",
       "\n",
       "       2014      2015      2016      2017      2018      2019      2020  \n",
       "0  1.578533  2.041459  1.266686  1.619580  1.819204  2.149560 -5.659660  \n",
       "1  1.128596  1.451893  0.755269  1.228866  1.356791  1.598970 -6.111257  \n",
       "2  6.061059  6.552640  7.113478  7.284174  7.863754  8.152684  3.509136  \n",
       "3  4.855756  5.366866  5.946678  6.136478  6.733299  7.045289  2.476360  \n",
       "4  2.870036  0.659177  1.001394  3.039880  2.777041  1.879592 -5.233024  \n",
       "\n",
       "[5 rows x 32 columns]"
      ]
     },
     "execution_count": 157,
     "metadata": {},
     "output_type": "execute_result"
    }
   ],
   "source": [
    "df1['Country'] = df1['Country'].map(country_names)\n",
    "df1.head()"
   ]
  },
  {
   "cell_type": "code",
   "execution_count": 158,
   "metadata": {},
   "outputs": [
    {
     "data": {
      "text/html": [
       "<div>\n",
       "<style scoped>\n",
       "    .dataframe tbody tr th:only-of-type {\n",
       "        vertical-align: middle;\n",
       "    }\n",
       "\n",
       "    .dataframe tbody tr th {\n",
       "        vertical-align: top;\n",
       "    }\n",
       "\n",
       "    .dataframe thead th {\n",
       "        text-align: right;\n",
       "    }\n",
       "</style>\n",
       "<table border=\"1\" class=\"dataframe\">\n",
       "  <thead>\n",
       "    <tr style=\"text-align: right;\">\n",
       "      <th></th>\n",
       "      <th>country_groups</th>\n",
       "      <th>Country</th>\n",
       "      <th>Indictor</th>\n",
       "      <th>1991</th>\n",
       "      <th>1992</th>\n",
       "      <th>1993</th>\n",
       "      <th>1994</th>\n",
       "      <th>1995</th>\n",
       "      <th>1996</th>\n",
       "      <th>1997</th>\n",
       "      <th>...</th>\n",
       "      <th>2011</th>\n",
       "      <th>2012</th>\n",
       "      <th>2013</th>\n",
       "      <th>2014</th>\n",
       "      <th>2015</th>\n",
       "      <th>2016</th>\n",
       "      <th>2017</th>\n",
       "      <th>2018</th>\n",
       "      <th>2019</th>\n",
       "      <th>2020</th>\n",
       "    </tr>\n",
       "  </thead>\n",
       "  <tbody>\n",
       "    <tr>\n",
       "      <th>0</th>\n",
       "      <td>Medium</td>\n",
       "      <td>Belgium</td>\n",
       "      <td>GDP growth</td>\n",
       "      <td>1.833074</td>\n",
       "      <td>1.530655</td>\n",
       "      <td>-0.961873</td>\n",
       "      <td>3.226972</td>\n",
       "      <td>2.384757</td>\n",
       "      <td>1.321451</td>\n",
       "      <td>3.793658</td>\n",
       "      <td>...</td>\n",
       "      <td>1.694514</td>\n",
       "      <td>0.739217</td>\n",
       "      <td>0.459242</td>\n",
       "      <td>1.578533</td>\n",
       "      <td>2.041459</td>\n",
       "      <td>1.266686</td>\n",
       "      <td>1.619580</td>\n",
       "      <td>1.819204</td>\n",
       "      <td>2.149560</td>\n",
       "      <td>-5.659660</td>\n",
       "    </tr>\n",
       "    <tr>\n",
       "      <th>1</th>\n",
       "      <td>Medium</td>\n",
       "      <td>Belgium</td>\n",
       "      <td>GDP per capita</td>\n",
       "      <td>1.455372</td>\n",
       "      <td>1.119566</td>\n",
       "      <td>-1.348000</td>\n",
       "      <td>2.909319</td>\n",
       "      <td>2.170550</td>\n",
       "      <td>1.123669</td>\n",
       "      <td>3.542789</td>\n",
       "      <td>...</td>\n",
       "      <td>0.380035</td>\n",
       "      <td>0.116403</td>\n",
       "      <td>-0.013148</td>\n",
       "      <td>1.128596</td>\n",
       "      <td>1.451893</td>\n",
       "      <td>0.755269</td>\n",
       "      <td>1.228866</td>\n",
       "      <td>1.356791</td>\n",
       "      <td>1.598970</td>\n",
       "      <td>-6.111257</td>\n",
       "    </tr>\n",
       "    <tr>\n",
       "      <th>2</th>\n",
       "      <td>Low</td>\n",
       "      <td>Bangladesh</td>\n",
       "      <td>GDP growth</td>\n",
       "      <td>3.485228</td>\n",
       "      <td>5.442686</td>\n",
       "      <td>4.711562</td>\n",
       "      <td>3.890126</td>\n",
       "      <td>5.121278</td>\n",
       "      <td>4.522919</td>\n",
       "      <td>4.489896</td>\n",
       "      <td>...</td>\n",
       "      <td>6.464379</td>\n",
       "      <td>6.521459</td>\n",
       "      <td>6.013606</td>\n",
       "      <td>6.061059</td>\n",
       "      <td>6.552640</td>\n",
       "      <td>7.113478</td>\n",
       "      <td>7.284174</td>\n",
       "      <td>7.863754</td>\n",
       "      <td>8.152684</td>\n",
       "      <td>3.509136</td>\n",
       "    </tr>\n",
       "    <tr>\n",
       "      <th>3</th>\n",
       "      <td>Low</td>\n",
       "      <td>Bangladesh</td>\n",
       "      <td>GDP per capita</td>\n",
       "      <td>1.106647</td>\n",
       "      <td>3.114215</td>\n",
       "      <td>2.465582</td>\n",
       "      <td>1.690417</td>\n",
       "      <td>2.901244</td>\n",
       "      <td>2.319635</td>\n",
       "      <td>2.306677</td>\n",
       "      <td>...</td>\n",
       "      <td>5.253547</td>\n",
       "      <td>5.299260</td>\n",
       "      <td>4.795196</td>\n",
       "      <td>4.855756</td>\n",
       "      <td>5.366866</td>\n",
       "      <td>5.946678</td>\n",
       "      <td>6.136478</td>\n",
       "      <td>6.733299</td>\n",
       "      <td>7.045289</td>\n",
       "      <td>2.476360</td>\n",
       "    </tr>\n",
       "    <tr>\n",
       "      <th>4</th>\n",
       "      <td>High</td>\n",
       "      <td>Canada</td>\n",
       "      <td>GDP growth</td>\n",
       "      <td>NaN</td>\n",
       "      <td>NaN</td>\n",
       "      <td>NaN</td>\n",
       "      <td>NaN</td>\n",
       "      <td>NaN</td>\n",
       "      <td>NaN</td>\n",
       "      <td>NaN</td>\n",
       "      <td>...</td>\n",
       "      <td>3.146881</td>\n",
       "      <td>1.762223</td>\n",
       "      <td>2.329123</td>\n",
       "      <td>2.870036</td>\n",
       "      <td>0.659177</td>\n",
       "      <td>1.001394</td>\n",
       "      <td>3.039880</td>\n",
       "      <td>2.777041</td>\n",
       "      <td>1.879592</td>\n",
       "      <td>-5.233024</td>\n",
       "    </tr>\n",
       "  </tbody>\n",
       "</table>\n",
       "<p>5 rows × 33 columns</p>\n",
       "</div>"
      ],
      "text/plain": [
       "  country_groups     Country        Indictor      1991      1992      1993  \\\n",
       "0         Medium     Belgium      GDP growth  1.833074  1.530655 -0.961873   \n",
       "1         Medium     Belgium  GDP per capita  1.455372  1.119566 -1.348000   \n",
       "2            Low  Bangladesh      GDP growth  3.485228  5.442686  4.711562   \n",
       "3            Low  Bangladesh  GDP per capita  1.106647  3.114215  2.465582   \n",
       "4           High      Canada      GDP growth       NaN       NaN       NaN   \n",
       "\n",
       "       1994      1995      1996      1997  ...      2011      2012      2013  \\\n",
       "0  3.226972  2.384757  1.321451  3.793658  ...  1.694514  0.739217  0.459242   \n",
       "1  2.909319  2.170550  1.123669  3.542789  ...  0.380035  0.116403 -0.013148   \n",
       "2  3.890126  5.121278  4.522919  4.489896  ...  6.464379  6.521459  6.013606   \n",
       "3  1.690417  2.901244  2.319635  2.306677  ...  5.253547  5.299260  4.795196   \n",
       "4       NaN       NaN       NaN       NaN  ...  3.146881  1.762223  2.329123   \n",
       "\n",
       "       2014      2015      2016      2017      2018      2019      2020  \n",
       "0  1.578533  2.041459  1.266686  1.619580  1.819204  2.149560 -5.659660  \n",
       "1  1.128596  1.451893  0.755269  1.228866  1.356791  1.598970 -6.111257  \n",
       "2  6.061059  6.552640  7.113478  7.284174  7.863754  8.152684  3.509136  \n",
       "3  4.855756  5.366866  5.946678  6.136478  6.733299  7.045289  2.476360  \n",
       "4  2.870036  0.659177  1.001394  3.039880  2.777041  1.879592 -5.233024  \n",
       "\n",
       "[5 rows x 33 columns]"
      ]
     },
     "execution_count": 158,
     "metadata": {},
     "output_type": "execute_result"
    }
   ],
   "source": [
    "df1.insert(loc=0, column='country_groups', value=df1['Country'].map(country_groups))\n",
    "df1.head()"
   ]
  },
  {
   "cell_type": "code",
   "execution_count": 159,
   "metadata": {},
   "outputs": [
    {
     "data": {
      "text/plain": [
       "0"
      ]
     },
     "execution_count": 159,
     "metadata": {},
     "output_type": "execute_result"
    }
   ],
   "source": [
    "## features with missing values\n",
    "for feature in df1.drop(['country_groups', 'Country', 'Indictor'], axis = 1).columns:\n",
    "    mean = df1[feature].mean()\n",
    "    std = df1[feature].std()\n",
    "    is_null = df1[feature].isnull().sum()\n",
    "    # Get random numbers between the mean, std and is_null\n",
    "    rand_age = np.random.randint(mean - std, mean + std, size = is_null)\n",
    "    # fill NaN values in each feature column with random values generated\n",
    "    feature_slice = df1[feature].copy()\n",
    "    feature_slice[np.isnan(feature_slice)] = rand_age\n",
    "    df1[feature] = feature_slice\n",
    "##Check if any column still contain missing values\n",
    "df1[feature].isnull().sum()"
   ]
  },
  {
   "cell_type": "code",
   "execution_count": 160,
   "metadata": {},
   "outputs": [],
   "source": [
    "from sklearn.preprocessing import StandardScaler"
   ]
  },
  {
   "cell_type": "code",
   "execution_count": 161,
   "metadata": {},
   "outputs": [],
   "source": [
    "scaler = StandardScaler()\n",
    "data_rescale = scaler.fit_transform(df1.drop(['country_groups', 'Country', 'Indictor'], axis = 1))"
   ]
  },
  {
   "cell_type": "code",
   "execution_count": 162,
   "metadata": {},
   "outputs": [
    {
     "data": {
      "text/plain": [
       "array([[ 0.50003853,  0.14139853, -0.74828954,  0.15782468, -0.48919271,\n",
       "        -1.02071372, -0.14073459, -0.45817251, -0.11879055, -0.3623622 ,\n",
       "        -0.94852786, -0.50579237, -1.1250111 , -0.42062867, -0.51679616,\n",
       "        -0.84435073, -0.2630302 ,  0.0188854 ,  0.13616062,  0.31117072,\n",
       "         0.16728793, -0.02912486, -0.45675791, -0.54224415, -0.35708253,\n",
       "        -0.54049446, -0.88035066, -0.65912171, -0.21958646, -0.23168851],\n",
       "       [ 0.36494732, -0.00714844, -0.95357705, -0.09135205, -0.58504023,\n",
       "        -1.12935537, -0.22851082, -0.54315049, -0.22490973, -0.50460655,\n",
       "        -1.19372631, -0.82998929, -1.37244757, -0.71370428, -0.82136783,\n",
       "        -1.29686127, -0.70075462, -0.2695336 , -0.08026303,  0.00391584,\n",
       "        -0.16185857, -0.2052222 , -0.6432491 , -0.71235282, -0.44132033,\n",
       "        -0.75668785, -1.04001472, -0.83439877, -0.46106816, -0.32057815],\n",
       "       [ 1.09095706,  1.55501005,  2.26804225,  0.67802407,  0.73527105,\n",
       "         0.73785364,  0.10287196,  0.79811456,  0.38594147,  0.53031564,\n",
       "         1.86108648,  1.00953027,  1.04485644,  0.67253764,  1.76998579,\n",
       "         1.92075462,  1.68842286,  2.05029504,  2.08377186,  1.20039127,\n",
       "         1.36166533,  1.60577134,  1.73600348,  1.15247282,  0.28748012,\n",
       "         1.93114117,  1.43446784,  1.63206115,  2.41330836,  1.57304323],\n",
       "       [ 0.24022054,  0.71361782,  1.07394756, -1.04749696, -0.25808917,\n",
       "        -0.47241088, -0.66101334, -0.04678123, -0.55239453, -0.62235104,\n",
       "         0.47418709, -0.32512132, -0.00896472, -0.43232199,  0.91799027,\n",
       "         0.96268717,  0.93524917,  1.60962339,  1.76220765,  0.81257377,\n",
       "         1.0584722 ,  1.26020161,  1.25499761,  0.69678173,  0.11805542,\n",
       "         1.43789558,  0.96546545,  1.20356291,  1.92761868,  1.36975769],\n",
       "       [-0.15558912, -0.77305316, -0.76855993, -0.80465005, -0.66135342,\n",
       "         0.45061398, -1.1182056 , -0.13201559,  0.07270421,  0.31768986,\n",
       "        -0.73245018,  0.71663572,  0.50058345, -0.19599418,  0.93428035,\n",
       "         0.23863228,  1.57878701,  0.22348888, -0.11402283,  0.3851336 ,\n",
       "         0.5309617 ,  0.26012412,  0.28143673, -0.05396325, -0.55458457,\n",
       "        -0.65264232, -0.29994958, -0.29605424, -0.33799088, -0.14771207]])"
      ]
     },
     "execution_count": 162,
     "metadata": {},
     "output_type": "execute_result"
    }
   ],
   "source": [
    "data_rescale[:5, :]"
   ]
  },
  {
   "cell_type": "code",
   "execution_count": 163,
   "metadata": {},
   "outputs": [],
   "source": [
    "from sklearn.cluster import KMeans"
   ]
  },
  {
   "cell_type": "code",
   "execution_count": 164,
   "metadata": {},
   "outputs": [],
   "source": [
    "def ElbowPlot(X, k_min, k_max):\n",
    "    wss = [ ]\n",
    "    for i in range(k_min, k_max+1):\n",
    "        kmeans = KMeans(n_clusters = i, random_state = 2600)\n",
    "        kmeans.fit(X)\n",
    "        wss.append(kmeans.inertia_)\n",
    "    plt.figure(figsize=(15,5))\n",
    "    plt.plot(range(k_min, k_max+1), wss, '-o')\n",
    "    plt.title('Elbow plot to find best number of clusters')\n",
    "    plt.xlabel('Number of cluster k')\n",
    "    plt.ylabel('Within group Sum of Square')\n",
    "    plt.show()"
   ]
  },
  {
   "cell_type": "code",
   "execution_count": 165,
   "metadata": {},
   "outputs": [
    {
     "data": {
      "image/png": "[encoded data removed]",
      "text/plain": [
       "<Figure size 1080x360 with 1 Axes>"
      ]
     },
     "metadata": {},
     "output_type": "display_data"
    }
   ],
   "source": [
    "ElbowPlot(data_rescale, k_min = 2, k_max = 10)"
   ]
  },
  {
   "cell_type": "code",
   "execution_count": 181,
   "metadata": {},
   "outputs": [
    {
     "data": {
      "text/plain": [
       "KMeans(n_clusters=3, random_state=2600)"
      ]
     },
     "execution_count": 181,
     "metadata": {},
     "output_type": "execute_result"
    }
   ],
   "source": [
    "def kmean_clustering():\n",
    "    \n",
    "    kmeans = KMeans(n_clusters = param, random_state = 2600).fit(data_rescale)\n",
    "    return kmeans\n",
    "kmean_clustering()"
   ]
  },
  {
   "cell_type": "code",
   "execution_count": 180,
   "metadata": {},
   "outputs": [
    {
     "data": {
      "text/plain": [
       "array([0, 0, 1, 1, 0, 0, 0, 0, 0, 0, 0, 0, 0, 0, 2, 2, 1, 0, 1, 0])"
      ]
     },
     "execution_count": 180,
     "metadata": {},
     "output_type": "execute_result"
    }
   ],
   "source": [
    "kmeans_labels = kmeans.labels_\n",
    "kmeans_labels"
   ]
  },
  {
   "cell_type": "code",
   "execution_count": 176,
   "metadata": {},
   "outputs": [
    {
     "data": {
      "image/png": "[encoded data removed]",
      "text/plain": [
       "<Figure size 432x288 with 1 Axes>"
      ]
     },
     "metadata": {},
     "output_type": "display_data"
    }
   ],
   "source": [
    "plt.scatter(data_rescale[:, 0], data_rescale[:, 1], c=kmeans_labels, s=50, cmap='viridis')\n",
    "\n",
    "centers = kmeans.cluster_centers_\n",
    "plt.scatter(centers[:, 0], centers[:, 1], c='black', s=200, alpha=0.5);"
   ]
  },
  {
   "cell_type": "code",
   "execution_count": 169,
   "metadata": {},
   "outputs": [],
   "source": [
    "df1.insert(loc=1, column='Predicted_labels', value=kmeans_labels)"
   ]
  },
  {
   "cell_type": "code",
   "execution_count": 177,
   "metadata": {},
   "outputs": [],
   "source": [
    "from err_ranges import err_ranges"
   ]
  },
  {
   "cell_type": "code",
   "execution_count": null,
   "metadata": {},
   "outputs": [],
   "source": []
  }
 ],
 "metadata": {
  "kernelspec": {
   "display_name": "Python 3",
   "language": "python",
   "name": "python3"
  },
  "language_info": {
   "codemirror_mode": {
    "name": "ipython",
    "version": 3
   },
   "file_extension": ".py",
   "mimetype": "text/x-python",
   "name": "python",
   "nbconvert_exporter": "python",
   "pygments_lexer": "ipython3",
   "version": "3.7.9"
  }
 },
 "nbformat": 4,
 "nbformat_minor": 4
}
