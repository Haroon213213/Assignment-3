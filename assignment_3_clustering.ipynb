{
 "cells": [
  {
   "cell_type": "markdown",
   "metadata": {},
   "source": [
    "<center><h2> Assignment 3"
   ]
  },
  {
   "cell_type": "markdown",
   "metadata": {},
   "source": [
    "#### Import Required Python Packages"
   ]
  },
  {
   "cell_type": "code",
   "execution_count": 1,
   "metadata": {},
   "outputs": [],
   "source": [
    "import pandas as pd\n",
    "import numpy as np\n",
    "import wbgapi as wb\n",
    "import seaborn as sns\n",
    "import matplotlib.pyplot as plt\n",
    "plt.style.use('ggplot')\n",
    "import scipy.optimize as opt"
   ]
  },
  {
   "cell_type": "markdown",
   "metadata": {},
   "source": [
    "#### Get the data into Pandas DataFrame"
   ]
  },
  {
   "cell_type": "code",
   "execution_count": 2,
   "metadata": {},
   "outputs": [],
   "source": [
    "country_codes = ['CAN'] \n",
    "\n",
    "country_names = {\n",
    "                \"CAN\": 'Canada', \n",
    "                }\n",
    "country_groups = {\n",
    "    \"Canada\": 'High',\n",
    "        }"
   ]
  },
  {
   "cell_type": "code",
   "execution_count": 3,
   "metadata": {},
   "outputs": [],
   "source": [
    "indicator_ids = [\"NY.GDP.MKTP.KD.ZG\", \"NY.GDP.PCAP.KD.ZG\"]\n"
   ]
  },
  {
   "cell_type": "code",
   "execution_count": 4,
   "metadata": {
    "scrolled": true
   },
   "outputs": [],
   "source": [
    "def get_data(country_codes):\n",
    "    \n",
    "    \"\"\"\n",
    "    Get the data using world bank API into Pandas DataFrame\n",
    "    \"\"\"\n",
    "    \n",
    "    data  = wb.data.DataFrame(indicator_ids, country_codes, mrv=30) # most recent 30 years\n",
    "\n",
    "    df = data.reset_index()\n",
    "\n",
    "    df[\"series\"].replace({\"NY.GDP.MKTP.KD.ZG\": \"GDP growth\", \"NY.GDP.PCAP.KD.ZG\": \"GDP per capita\"}, inplace=True)\n",
    "    df.columns = ['Year', '1991', '1992', '1993', '1994', '1995', '1996', '1997', '1998', \n",
    "                    '1999', '2000', '2001', '2002', '2003', '2004', '2005', '2006', '2007', '2008', '2009','2010', \n",
    "                    '2011', '2012','2013','2014','2015','2016','2017','2018', '2019', '2020']\n",
    "\n",
    "    ## Reshape data to get in required format\n",
    "    df = df.transpose()\n",
    "    df.columns = df.iloc[0]\n",
    "    df = df[1:].reset_index()\n",
    "    ### Returns data in original and transposed format\n",
    "    return data, df"
   ]
  },
  {
   "cell_type": "code",
   "execution_count": 5,
   "metadata": {},
   "outputs": [
    {
     "data": {
      "text/html": [
       "<div>\n",
       "<style scoped>\n",
       "    .dataframe tbody tr th:only-of-type {\n",
       "        vertical-align: middle;\n",
       "    }\n",
       "\n",
       "    .dataframe tbody tr th {\n",
       "        vertical-align: top;\n",
       "    }\n",
       "\n",
       "    .dataframe thead th {\n",
       "        text-align: right;\n",
       "    }\n",
       "</style>\n",
       "<table border=\"1\" class=\"dataframe\">\n",
       "  <thead>\n",
       "    <tr style=\"text-align: right;\">\n",
       "      <th></th>\n",
       "      <th>YR1963</th>\n",
       "      <th>YR1964</th>\n",
       "      <th>YR1965</th>\n",
       "      <th>YR1966</th>\n",
       "      <th>YR1967</th>\n",
       "      <th>YR1968</th>\n",
       "      <th>YR1969</th>\n",
       "      <th>YR1998</th>\n",
       "      <th>YR1999</th>\n",
       "      <th>YR2000</th>\n",
       "      <th>...</th>\n",
       "      <th>YR2011</th>\n",
       "      <th>YR2012</th>\n",
       "      <th>YR2013</th>\n",
       "      <th>YR2014</th>\n",
       "      <th>YR2015</th>\n",
       "      <th>YR2016</th>\n",
       "      <th>YR2017</th>\n",
       "      <th>YR2018</th>\n",
       "      <th>YR2019</th>\n",
       "      <th>YR2020</th>\n",
       "    </tr>\n",
       "    <tr>\n",
       "      <th>series</th>\n",
       "      <th></th>\n",
       "      <th></th>\n",
       "      <th></th>\n",
       "      <th></th>\n",
       "      <th></th>\n",
       "      <th></th>\n",
       "      <th></th>\n",
       "      <th></th>\n",
       "      <th></th>\n",
       "      <th></th>\n",
       "      <th></th>\n",
       "      <th></th>\n",
       "      <th></th>\n",
       "      <th></th>\n",
       "      <th></th>\n",
       "      <th></th>\n",
       "      <th></th>\n",
       "      <th></th>\n",
       "      <th></th>\n",
       "      <th></th>\n",
       "      <th></th>\n",
       "    </tr>\n",
       "  </thead>\n",
       "  <tbody>\n",
       "    <tr>\n",
       "      <th>NY.GDP.MKTP.KD.ZG</th>\n",
       "      <td>5.349546</td>\n",
       "      <td>6.642894</td>\n",
       "      <td>6.316714</td>\n",
       "      <td>6.704992</td>\n",
       "      <td>3.091206</td>\n",
       "      <td>4.995667</td>\n",
       "      <td>5.045456</td>\n",
       "      <td>2.796542</td>\n",
       "      <td>3.970483</td>\n",
       "      <td>4.917763</td>\n",
       "      <td>...</td>\n",
       "      <td>3.146881</td>\n",
       "      <td>1.762223</td>\n",
       "      <td>2.329123</td>\n",
       "      <td>2.870036</td>\n",
       "      <td>0.659177</td>\n",
       "      <td>1.001394</td>\n",
       "      <td>3.039880</td>\n",
       "      <td>2.777041</td>\n",
       "      <td>1.879592</td>\n",
       "      <td>-5.233024</td>\n",
       "    </tr>\n",
       "    <tr>\n",
       "      <th>NY.GDP.PCAP.KD.ZG</th>\n",
       "      <td>3.405213</td>\n",
       "      <td>4.650755</td>\n",
       "      <td>4.409518</td>\n",
       "      <td>4.735676</td>\n",
       "      <td>1.252817</td>\n",
       "      <td>3.315250</td>\n",
       "      <td>3.626733</td>\n",
       "      <td>1.946955</td>\n",
       "      <td>3.128792</td>\n",
       "      <td>3.945219</td>\n",
       "      <td>...</td>\n",
       "      <td>2.142309</td>\n",
       "      <td>0.663248</td>\n",
       "      <td>1.253614</td>\n",
       "      <td>1.841026</td>\n",
       "      <td>-0.089286</td>\n",
       "      <td>-0.135843</td>\n",
       "      <td>1.811279</td>\n",
       "      <td>1.335564</td>\n",
       "      <td>0.426918</td>\n",
       "      <td>-6.319222</td>\n",
       "    </tr>\n",
       "  </tbody>\n",
       "</table>\n",
       "<p>2 rows × 30 columns</p>\n",
       "</div>"
      ],
      "text/plain": [
       "                     YR1963    YR1964    YR1965    YR1966    YR1967    YR1968  \\\n",
       "series                                                                          \n",
       "NY.GDP.MKTP.KD.ZG  5.349546  6.642894  6.316714  6.704992  3.091206  4.995667   \n",
       "NY.GDP.PCAP.KD.ZG  3.405213  4.650755  4.409518  4.735676  1.252817  3.315250   \n",
       "\n",
       "                     YR1969    YR1998    YR1999    YR2000  ...    YR2011  \\\n",
       "series                                                     ...             \n",
       "NY.GDP.MKTP.KD.ZG  5.045456  2.796542  3.970483  4.917763  ...  3.146881   \n",
       "NY.GDP.PCAP.KD.ZG  3.626733  1.946955  3.128792  3.945219  ...  2.142309   \n",
       "\n",
       "                     YR2012    YR2013    YR2014    YR2015    YR2016    YR2017  \\\n",
       "series                                                                          \n",
       "NY.GDP.MKTP.KD.ZG  1.762223  2.329123  2.870036  0.659177  1.001394  3.039880   \n",
       "NY.GDP.PCAP.KD.ZG  0.663248  1.253614  1.841026 -0.089286 -0.135843  1.811279   \n",
       "\n",
       "                     YR2018    YR2019    YR2020  \n",
       "series                                           \n",
       "NY.GDP.MKTP.KD.ZG  2.777041  1.879592 -5.233024  \n",
       "NY.GDP.PCAP.KD.ZG  1.335564  0.426918 -6.319222  \n",
       "\n",
       "[2 rows x 30 columns]"
      ]
     },
     "execution_count": 5,
     "metadata": {},
     "output_type": "execute_result"
    }
   ],
   "source": [
    "## Data in original format\n",
    "get_data(\"CAN\")[0]"
   ]
  },
  {
   "cell_type": "code",
   "execution_count": 6,
   "metadata": {},
   "outputs": [
    {
     "data": {
      "text/html": [
       "<div>\n",
       "<style scoped>\n",
       "    .dataframe tbody tr th:only-of-type {\n",
       "        vertical-align: middle;\n",
       "    }\n",
       "\n",
       "    .dataframe tbody tr th {\n",
       "        vertical-align: top;\n",
       "    }\n",
       "\n",
       "    .dataframe thead th {\n",
       "        text-align: right;\n",
       "    }\n",
       "</style>\n",
       "<table border=\"1\" class=\"dataframe\">\n",
       "  <thead>\n",
       "    <tr style=\"text-align: right;\">\n",
       "      <th>Year</th>\n",
       "      <th>index</th>\n",
       "      <th>GDP growth</th>\n",
       "      <th>GDP per capita</th>\n",
       "    </tr>\n",
       "  </thead>\n",
       "  <tbody>\n",
       "    <tr>\n",
       "      <th>0</th>\n",
       "      <td>1991</td>\n",
       "      <td>5.349546</td>\n",
       "      <td>3.405213</td>\n",
       "    </tr>\n",
       "    <tr>\n",
       "      <th>1</th>\n",
       "      <td>1992</td>\n",
       "      <td>6.642894</td>\n",
       "      <td>4.650755</td>\n",
       "    </tr>\n",
       "    <tr>\n",
       "      <th>2</th>\n",
       "      <td>1993</td>\n",
       "      <td>6.316714</td>\n",
       "      <td>4.409518</td>\n",
       "    </tr>\n",
       "    <tr>\n",
       "      <th>3</th>\n",
       "      <td>1994</td>\n",
       "      <td>6.704992</td>\n",
       "      <td>4.735676</td>\n",
       "    </tr>\n",
       "    <tr>\n",
       "      <th>4</th>\n",
       "      <td>1995</td>\n",
       "      <td>3.091206</td>\n",
       "      <td>1.252817</td>\n",
       "    </tr>\n",
       "  </tbody>\n",
       "</table>\n",
       "</div>"
      ],
      "text/plain": [
       "Year index GDP growth GDP per capita\n",
       "0     1991   5.349546       3.405213\n",
       "1     1992   6.642894       4.650755\n",
       "2     1993   6.316714       4.409518\n",
       "3     1994   6.704992       4.735676\n",
       "4     1995   3.091206       1.252817"
      ]
     },
     "execution_count": 6,
     "metadata": {},
     "output_type": "execute_result"
    }
   ],
   "source": [
    "## get GDP data in transposed format\n",
    "df1 = get_data(\"CAN\")[1]\n",
    "df1.head()"
   ]
  },
  {
   "cell_type": "code",
   "execution_count": 7,
   "metadata": {},
   "outputs": [],
   "source": [
    "### Convert datatpe Year and GDP growth to numerical datatype\n",
    "df1['index'] = df1[\"index\"].astype(int)\n",
    "df1[\"GDP growth\"] = df1[\"GDP growth\"].astype(float)"
   ]
  },
  {
   "cell_type": "markdown",
   "metadata": {},
   "source": [
    "### K-means Clustering"
   ]
  },
  {
   "cell_type": "code",
   "execution_count": 8,
   "metadata": {},
   "outputs": [],
   "source": [
    "from sklearn.preprocessing import StandardScaler"
   ]
  },
  {
   "cell_type": "code",
   "execution_count": 9,
   "metadata": {},
   "outputs": [],
   "source": [
    "scaler = StandardScaler()\n",
    "data_rescale = scaler.fit_transform(df1)"
   ]
  },
  {
   "cell_type": "code",
   "execution_count": 10,
   "metadata": {},
   "outputs": [
    {
     "data": {
      "text/plain": [
       "array([[-1.67524673,  0.86050562,  0.61887384],\n",
       "       [-1.55971247,  1.36129293,  1.12638458],\n",
       "       [-1.44417822,  1.23499519,  1.02808971],\n",
       "       [-1.32864396,  1.38533716,  1.16098634],\n",
       "       [-1.2131097 , -0.01392901, -0.25814488]])"
      ]
     },
     "execution_count": 10,
     "metadata": {},
     "output_type": "execute_result"
    }
   ],
   "source": [
    "data_rescale[:5, :]"
   ]
  },
  {
   "cell_type": "code",
   "execution_count": 11,
   "metadata": {},
   "outputs": [],
   "source": [
    "from sklearn.cluster import KMeans"
   ]
  },
  {
   "cell_type": "code",
   "execution_count": 12,
   "metadata": {},
   "outputs": [],
   "source": [
    "def ElbowPlot(X, k_min, k_max):\n",
    "    \n",
    "    \"\"\"\n",
    "    Ebowplot, creating multiple K-means models and computing sum of squares for each model to select the best one\n",
    "    \"\"\"\n",
    "    \n",
    "    wss = [ ]\n",
    "    for i in range(k_min, k_max+1):\n",
    "        kmeans = KMeans(n_clusters = i, random_state = 2600)\n",
    "        kmeans.fit(X)\n",
    "        wss.append(kmeans.inertia_)\n",
    "    plt.figure(figsize=(15,5))\n",
    "    plt.plot(range(k_min, k_max+1), wss, '-o')\n",
    "    plt.title('Elbow plot to find best number of clusters')\n",
    "    plt.xlabel('Number of cluster k')\n",
    "    plt.ylabel('Within group Sum of Square')\n",
    "    plt.show()"
   ]
  },
  {
   "cell_type": "code",
   "execution_count": 13,
   "metadata": {},
   "outputs": [
    {
     "data": {
      "image/png": "[encoded data removed]",
      "text/plain": [
       "<Figure size 1080x360 with 1 Axes>"
      ]
     },
     "metadata": {},
     "output_type": "display_data"
    }
   ],
   "source": [
    "### Elbow plot to find best number of clusters\n",
    "ElbowPlot(data_rescale, k_min = 2, k_max = 10)"
   ]
  },
  {
   "cell_type": "code",
   "execution_count": 14,
   "metadata": {},
   "outputs": [
    {
     "name": "stdout",
     "output_type": "stream",
     "text": [
      "[1 1 1 1 1 1 1 1 1 1 0 1 1 1 1 1 1 0 2 0 0 0 0 0 0 0 0 0 0 2]\n",
      "[[ 0.84725122 -0.40521243 -0.38057925]\n",
      " [-0.76541446  0.65277335  0.64507949]\n",
      " [ 1.03980832 -2.79091224 -2.8771604 ]]\n"
     ]
    },
    {
     "data": {
      "image/png": "[encoded data removed]",
      "text/plain": [
       "<Figure size 360x360 with 1 Axes>"
      ]
     },
     "metadata": {},
     "output_type": "display_data"
    }
   ],
   "source": [
    "import sklearn.cluster as cluster\n",
    "\n",
    "\n",
    "### Create 3 clusters \n",
    "kmeans = cluster.KMeans(n_clusters=3)\n",
    "# Fit the data, results are stored in the kmeans object\n",
    "kmeans.fit(data_rescale) # fit done on x,y pairs\n",
    "labels = kmeans.labels_\n",
    "print(labels) # labels is the number of the associated clusters of (x,y)␣\n",
    "#points\n",
    "# extract the estimated cluster centres\n",
    "cen = kmeans.cluster_centers_\n",
    "print(cen)\n",
    "# plot using the labels to select colour\n",
    "plt.figure(figsize=(5.0,5.0))\n",
    "col = [\"blue\", \"red\", \"green\"]\n",
    "for l in range(0,3): # loop over the different labels\n",
    "    plt.plot(data_rescale[:, 0][labels==l], data_rescale[:, 1][labels==l], \"o\", markersize=3, color=col[l])\n",
    "plt.scatter(cen[:, 0], cen[:, 1], color = 'k',  s=100, alpha=0.5);"
   ]
  },
  {
   "cell_type": "code",
   "execution_count": 15,
   "metadata": {},
   "outputs": [],
   "source": [
    "def exp_growth(t, scale, growth):\n",
    "    \"\"\" Computes exponential function with scale and growth as free parameters\n",
    "    \"\"\"\n",
    "    f = scale * np.exp(growth * (t-1950))\n",
    "    return f\n",
    "def logistics(t, scale, growth, t0):\n",
    "    \"\"\" Computes logistics function with scale, growth raat\n",
    "    and time of the turning point as free parameters\n",
    "    \"\"\"\n",
    "    f = scale / (1.0 + np.exp(-growth * (t - t0)))\n",
    "    return f"
   ]
  },
  {
   "cell_type": "markdown",
   "metadata": {},
   "source": [
    "### Create simple model with curve fit- Exponential growth"
   ]
  },
  {
   "cell_type": "code",
   "execution_count": 16,
   "metadata": {},
   "outputs": [
    {
     "name": "stdout",
     "output_type": "stream",
     "text": [
      "Fit parameter [ 6.67028347e+01 -5.70667720e-02]\n"
     ]
    },
    {
     "data": {
      "image/png": "[encoded data removed]",
      "text/plain": [
       "<Figure size 432x288 with 1 Axes>"
      ]
     },
     "metadata": {},
     "output_type": "display_data"
    },
    {
     "name": "stdout",
     "output_type": "stream",
     "text": [
      "\n"
     ]
    }
   ],
   "source": [
    "# fit exponential growth\n",
    "popt, covar = opt.curve_fit(exp_growth, df1[\"index\"],\n",
    "df1[\"GDP growth\"], p0=[4e8, 0.05])\n",
    "# much better\n",
    "print(\"Fit parameter\", popt)\n",
    "df1[\"GDP_exp\"] = exp_growth(df1[\"index\"], *popt)\n",
    "plt.figure()\n",
    "plt.plot(df1[\"index\"], df1[\"GDP growth\"], label=\"data\")\n",
    "plt.plot(df1[\"index\"], df1[\"GDP_exp\"], label=\"fit\")\n",
    "plt.legend()\n",
    "plt.xlabel(\"year\")\n",
    "plt.ylabel(\"GDP\")\n",
    "plt.title(\"Final fit exponential growth\")\n",
    "plt.show()\n",
    "print()\n"
   ]
  },
  {
   "cell_type": "code",
   "execution_count": 17,
   "metadata": {},
   "outputs": [
    {
     "name": "stdout",
     "output_type": "stream",
     "text": [
      "Forcasted GDP\n",
      "2030 between  0.040463720994599175 and 4.522950501380462\n"
     ]
    }
   ],
   "source": [
    "## # Using err_range.py file\n",
    "from err_ranges import err_ranges\n",
    "print(\"Forcasted GDP\")\n",
    "sigma = np.sqrt(np.diag(covar))\n",
    "\n",
    "low, up = err_ranges(2030, exp_growth, popt, sigma)\n",
    "print(\"2030 between \", low, \"and\", up)"
   ]
  },
  {
   "cell_type": "markdown",
   "metadata": {},
   "source": [
    "<center><h2> THE END"
   ]
  }
 ],
 "metadata": {
  "kernelspec": {
   "display_name": "Python 3",
   "language": "python",
   "name": "python3"
  },
  "language_info": {
   "codemirror_mode": {
    "name": "ipython",
    "version": 3
   },
   "file_extension": ".py",
   "mimetype": "text/x-python",
   "name": "python",
   "nbconvert_exporter": "python",
   "pygments_lexer": "ipython3",
   "version": "3.7.9"
  }
 },
 "nbformat": 4,
 "nbformat_minor": 4
}
